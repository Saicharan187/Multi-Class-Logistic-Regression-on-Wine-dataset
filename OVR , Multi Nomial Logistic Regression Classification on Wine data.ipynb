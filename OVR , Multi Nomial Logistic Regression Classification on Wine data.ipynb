{
 "cells": [
  {
   "cell_type": "code",
   "execution_count": 59,
   "metadata": {},
   "outputs": [],
   "source": [
    "import pandas as pd\n",
    "from sklearn.cross_validation import train_test_split\n",
    "from sklearn.linear_model import LogisticRegression\n",
    "from sklearn.metrics import accuracy_score,classification_report,confusion_matrix\n",
    "from sklearn import grid_search\n",
    "import warnings\n",
    "warnings.filterwarnings('ignore')"
   ]
  },
  {
   "cell_type": "code",
   "execution_count": 42,
   "metadata": {},
   "outputs": [
    {
     "data": {
      "text/html": [
       "<div>\n",
       "<style scoped>\n",
       "    .dataframe tbody tr th:only-of-type {\n",
       "        vertical-align: middle;\n",
       "    }\n",
       "\n",
       "    .dataframe tbody tr th {\n",
       "        vertical-align: top;\n",
       "    }\n",
       "\n",
       "    .dataframe thead th {\n",
       "        text-align: right;\n",
       "    }\n",
       "</style>\n",
       "<table border=\"1\" class=\"dataframe\">\n",
       "  <thead>\n",
       "    <tr style=\"text-align: right;\">\n",
       "      <th></th>\n",
       "      <th>Alcohol</th>\n",
       "      <th>Malic acid</th>\n",
       "      <th>Ash</th>\n",
       "      <th>Alcalinity of ash</th>\n",
       "      <th>Magnesium</th>\n",
       "      <th>Total phenols</th>\n",
       "      <th>Flavanoids</th>\n",
       "      <th>Nonflavanoid phenols</th>\n",
       "      <th>Proanthocyanins</th>\n",
       "      <th>Color intensity</th>\n",
       "      <th>Hue</th>\n",
       "      <th>OD280/OD315 of diluted</th>\n",
       "      <th>wines</th>\n",
       "      <th>Proline</th>\n",
       "    </tr>\n",
       "  </thead>\n",
       "  <tbody>\n",
       "    <tr>\n",
       "      <th>0</th>\n",
       "      <td>1</td>\n",
       "      <td>14.23</td>\n",
       "      <td>1.71</td>\n",
       "      <td>2.43</td>\n",
       "      <td>15.6</td>\n",
       "      <td>127</td>\n",
       "      <td>2.80</td>\n",
       "      <td>3.06</td>\n",
       "      <td>0.28</td>\n",
       "      <td>2.29</td>\n",
       "      <td>5.64</td>\n",
       "      <td>1.04</td>\n",
       "      <td>3.92</td>\n",
       "      <td>1065</td>\n",
       "    </tr>\n",
       "    <tr>\n",
       "      <th>1</th>\n",
       "      <td>1</td>\n",
       "      <td>13.20</td>\n",
       "      <td>1.78</td>\n",
       "      <td>2.14</td>\n",
       "      <td>11.2</td>\n",
       "      <td>100</td>\n",
       "      <td>2.65</td>\n",
       "      <td>2.76</td>\n",
       "      <td>0.26</td>\n",
       "      <td>1.28</td>\n",
       "      <td>4.38</td>\n",
       "      <td>1.05</td>\n",
       "      <td>3.40</td>\n",
       "      <td>1050</td>\n",
       "    </tr>\n",
       "    <tr>\n",
       "      <th>2</th>\n",
       "      <td>1</td>\n",
       "      <td>13.16</td>\n",
       "      <td>2.36</td>\n",
       "      <td>2.67</td>\n",
       "      <td>18.6</td>\n",
       "      <td>101</td>\n",
       "      <td>2.80</td>\n",
       "      <td>3.24</td>\n",
       "      <td>0.30</td>\n",
       "      <td>2.81</td>\n",
       "      <td>5.68</td>\n",
       "      <td>1.03</td>\n",
       "      <td>3.17</td>\n",
       "      <td>1185</td>\n",
       "    </tr>\n",
       "    <tr>\n",
       "      <th>3</th>\n",
       "      <td>1</td>\n",
       "      <td>14.37</td>\n",
       "      <td>1.95</td>\n",
       "      <td>2.50</td>\n",
       "      <td>16.8</td>\n",
       "      <td>113</td>\n",
       "      <td>3.85</td>\n",
       "      <td>3.49</td>\n",
       "      <td>0.24</td>\n",
       "      <td>2.18</td>\n",
       "      <td>7.80</td>\n",
       "      <td>0.86</td>\n",
       "      <td>3.45</td>\n",
       "      <td>1480</td>\n",
       "    </tr>\n",
       "    <tr>\n",
       "      <th>4</th>\n",
       "      <td>1</td>\n",
       "      <td>13.24</td>\n",
       "      <td>2.59</td>\n",
       "      <td>2.87</td>\n",
       "      <td>21.0</td>\n",
       "      <td>118</td>\n",
       "      <td>2.80</td>\n",
       "      <td>2.69</td>\n",
       "      <td>0.39</td>\n",
       "      <td>1.82</td>\n",
       "      <td>4.32</td>\n",
       "      <td>1.04</td>\n",
       "      <td>2.93</td>\n",
       "      <td>735</td>\n",
       "    </tr>\n",
       "  </tbody>\n",
       "</table>\n",
       "</div>"
      ],
      "text/plain": [
       "   Alcohol  Malic acid   Ash  Alcalinity of ash  Magnesium  Total phenols  \\\n",
       "0        1       14.23  1.71               2.43       15.6            127   \n",
       "1        1       13.20  1.78               2.14       11.2            100   \n",
       "2        1       13.16  2.36               2.67       18.6            101   \n",
       "3        1       14.37  1.95               2.50       16.8            113   \n",
       "4        1       13.24  2.59               2.87       21.0            118   \n",
       "\n",
       "   Flavanoids  Nonflavanoid phenols  Proanthocyanins  Color intensity   Hue  \\\n",
       "0        2.80                  3.06             0.28             2.29  5.64   \n",
       "1        2.65                  2.76             0.26             1.28  4.38   \n",
       "2        2.80                  3.24             0.30             2.81  5.68   \n",
       "3        3.85                  3.49             0.24             2.18  7.80   \n",
       "4        2.80                  2.69             0.39             1.82  4.32   \n",
       "\n",
       "   OD280/OD315 of diluted  wines  Proline  \n",
       "0                    1.04   3.92     1065  \n",
       "1                    1.05   3.40     1050  \n",
       "2                    1.03   3.17     1185  \n",
       "3                    0.86   3.45     1480  \n",
       "4                    1.04   2.93      735  "
      ]
     },
     "execution_count": 42,
     "metadata": {},
     "output_type": "execute_result"
    }
   ],
   "source": [
    "cols=['Alcohol','Malic acid','Ash','Alcalinity of ash','Magnesium','Total phenols','Flavanoids','Nonflavanoid phenols','Proanthocyanins','Color intensity','Hue','OD280/OD315 of diluted', 'wines','Proline' ]\n",
    "data=pd.read_csv('/./Datasets Repository/Wine Data From UCI/wine.csv',names=cols)\n",
    "data.head()"
   ]
  },
  {
   "cell_type": "code",
   "execution_count": 43,
   "metadata": {},
   "outputs": [],
   "source": [
    "predictors=data.drop('Alcohol',axis=1)"
   ]
  },
  {
   "cell_type": "code",
   "execution_count": 44,
   "metadata": {},
   "outputs": [],
   "source": [
    "X=predictors.values\n",
    "y=data.Alcohol"
   ]
  },
  {
   "cell_type": "code",
   "execution_count": 46,
   "metadata": {},
   "outputs": [
    {
     "name": "stdout",
     "output_type": "stream",
     "text": [
      "Confusion Matrix below :\n",
      "[[14  2  0]\n",
      " [ 0 20  1]\n",
      " [ 0  0  8]]\n",
      "Accuracy: 0.9333333333333333\n",
      "Classification Report Below\n",
      "             precision    recall  f1-score   support\n",
      "\n",
      "          1       1.00      0.88      0.93        16\n",
      "          2       0.91      0.95      0.93        21\n",
      "          3       0.89      1.00      0.94         8\n",
      "\n",
      "avg / total       0.94      0.93      0.93        45\n",
      "\n"
     ]
    }
   ],
   "source": [
    "x_train,x_test,y_train,y_test=train_test_split(X,y,random_state=0,test_size=0.25)\n",
    "model=LogisticRegression(multi_class='ovr')\n",
    "model.fit(x_train,y_train)\n",
    "y_pred=model.predict(x_test)\n",
    "print('Confusion Matrix below :')\n",
    "print(confusion_matrix(y_test,y_pred))\n",
    "print('Accuracy:',accuracy_score(y_test,y_pred))\n",
    "print('Classification Report Below')\n",
    "print(classification_report(y_test,y_pred))"
   ]
  },
  {
   "cell_type": "raw",
   "metadata": {},
   "source": [
    "For multi class Instead of One vs Rest lets resort to Multinomial\n",
    "Foe best parameters use Grid Search"
   ]
  },
  {
   "cell_type": "code",
   "execution_count": 71,
   "metadata": {},
   "outputs": [
    {
     "name": "stdout",
     "output_type": "stream",
     "text": [
      "Fitting 5 folds for each of 3 candidates, totalling 15 fits\n",
      "[CV] C=1, penalty=l2, solver=newton-cg ...............................\n",
      "[CV] ...... C=1, penalty=l2, solver=newton-cg, score=0.925926 -   0.1s\n",
      "[CV] C=1, penalty=l2, solver=newton-cg ...............................\n"
     ]
    },
    {
     "name": "stderr",
     "output_type": "stream",
     "text": [
      "[Parallel(n_jobs=1)]: Done   1 out of   1 | elapsed:    0.1s remaining:    0.0s\n",
      "[Parallel(n_jobs=1)]: Done   2 out of   2 | elapsed:    0.3s remaining:    0.0s\n"
     ]
    },
    {
     "name": "stdout",
     "output_type": "stream",
     "text": [
      "[CV] ...... C=1, penalty=l2, solver=newton-cg, score=0.925926 -   0.1s\n",
      "[CV] C=1, penalty=l2, solver=newton-cg ...............................\n",
      "[CV] ...... C=1, penalty=l2, solver=newton-cg, score=1.000000 -   0.1s\n",
      "[CV] C=1, penalty=l2, solver=newton-cg ...............................\n"
     ]
    },
    {
     "name": "stderr",
     "output_type": "stream",
     "text": [
      "[Parallel(n_jobs=1)]: Done   3 out of   3 | elapsed:    0.4s remaining:    0.0s\n",
      "[Parallel(n_jobs=1)]: Done   4 out of   4 | elapsed:    0.6s remaining:    0.0s\n"
     ]
    },
    {
     "name": "stdout",
     "output_type": "stream",
     "text": [
      "[CV] ...... C=1, penalty=l2, solver=newton-cg, score=1.000000 -   0.1s\n",
      "[CV] C=1, penalty=l2, solver=newton-cg ...............................\n",
      "[CV] ...... C=1, penalty=l2, solver=newton-cg, score=0.961538 -   0.1s\n",
      "[CV] C=10, penalty=l2, solver=newton-cg ..............................\n"
     ]
    },
    {
     "name": "stderr",
     "output_type": "stream",
     "text": [
      "[Parallel(n_jobs=1)]: Done   5 out of   5 | elapsed:    0.8s remaining:    0.0s\n",
      "[Parallel(n_jobs=1)]: Done   6 out of   6 | elapsed:    1.0s remaining:    0.0s\n"
     ]
    },
    {
     "name": "stdout",
     "output_type": "stream",
     "text": [
      "[CV] ..... C=10, penalty=l2, solver=newton-cg, score=0.962963 -   0.1s\n",
      "[CV] C=10, penalty=l2, solver=newton-cg ..............................\n",
      "[CV] ..... C=10, penalty=l2, solver=newton-cg, score=0.925926 -   0.2s\n",
      "[CV] C=10, penalty=l2, solver=newton-cg ..............................\n"
     ]
    },
    {
     "name": "stderr",
     "output_type": "stream",
     "text": [
      "[Parallel(n_jobs=1)]: Done   7 out of   7 | elapsed:    1.2s remaining:    0.0s\n"
     ]
    },
    {
     "name": "stdout",
     "output_type": "stream",
     "text": [
      "[CV] ..... C=10, penalty=l2, solver=newton-cg, score=0.962963 -   0.1s\n",
      "[CV] C=10, penalty=l2, solver=newton-cg ..............................\n"
     ]
    },
    {
     "name": "stderr",
     "output_type": "stream",
     "text": [
      "[Parallel(n_jobs=1)]: Done   8 out of   8 | elapsed:    1.5s remaining:    0.0s\n"
     ]
    },
    {
     "name": "stdout",
     "output_type": "stream",
     "text": [
      "[CV] ..... C=10, penalty=l2, solver=newton-cg, score=1.000000 -   0.1s\n",
      "[CV] C=10, penalty=l2, solver=newton-cg ..............................\n",
      "[CV] ..... C=10, penalty=l2, solver=newton-cg, score=0.961538 -   0.1s\n",
      "[CV] C=100, penalty=l2, solver=newton-cg .............................\n"
     ]
    },
    {
     "name": "stderr",
     "output_type": "stream",
     "text": [
      "[Parallel(n_jobs=1)]: Done   9 out of   9 | elapsed:    1.7s remaining:    0.0s\n"
     ]
    },
    {
     "name": "stdout",
     "output_type": "stream",
     "text": [
      "[CV] .... C=100, penalty=l2, solver=newton-cg, score=0.962963 -   0.2s\n",
      "[CV] C=100, penalty=l2, solver=newton-cg .............................\n",
      "[CV] .... C=100, penalty=l2, solver=newton-cg, score=0.925926 -   0.2s\n",
      "[CV] C=100, penalty=l2, solver=newton-cg .............................\n",
      "[CV] .... C=100, penalty=l2, solver=newton-cg, score=0.962963 -   0.1s\n",
      "[CV] C=100, penalty=l2, solver=newton-cg .............................\n",
      "[CV] .... C=100, penalty=l2, solver=newton-cg, score=1.000000 -   0.1s\n",
      "[CV] C=100, penalty=l2, solver=newton-cg .............................\n",
      "[CV] .... C=100, penalty=l2, solver=newton-cg, score=0.961538 -   0.0s\n"
     ]
    },
    {
     "name": "stderr",
     "output_type": "stream",
     "text": [
      "[Parallel(n_jobs=1)]: Done  15 out of  15 | elapsed:    3.0s finished\n"
     ]
    },
    {
     "name": "stdout",
     "output_type": "stream",
     "text": [
      "{'C': 1, 'penalty': 'l2', 'solver': 'newton-cg'}\n",
      "0.9624060150375939\n"
     ]
    }
   ],
   "source": [
    "model=LogisticRegression(multi_class='multinomial')\n",
    "parameters = {'penalty':['l2'], 'C':[1,10,100],'solver': ['newton-cg']}\n",
    "GS = grid_search.GridSearchCV(model, parameters,cv=5,verbose=10)\n",
    "GS.fit(x_train,y_train)\n",
    "print (GS.best_params_ )\n",
    "print (GS.best_score_ )"
   ]
  },
  {
   "cell_type": "code",
   "execution_count": 73,
   "metadata": {},
   "outputs": [
    {
     "name": "stdout",
     "output_type": "stream",
     "text": [
      "Confusion Matrix below :\n",
      "[[16  0  0]\n",
      " [ 0 20  1]\n",
      " [ 0  0  8]]\n",
      "Accuracy: 0.9777777777777777\n",
      "Classification Report Below\n",
      "             precision    recall  f1-score   support\n",
      "\n",
      "          1       1.00      1.00      1.00        16\n",
      "          2       1.00      0.95      0.98        21\n",
      "          3       0.89      1.00      0.94         8\n",
      "\n",
      "avg / total       0.98      0.98      0.98        45\n",
      "\n"
     ]
    }
   ],
   "source": [
    "x_train,x_test,y_train,y_test=train_test_split(X,y,random_state=0,test_size=0.25)\n",
    "model=LogisticRegression(multi_class='multinomial',solver='newton-cg',C=1,penalty='l2')\n",
    "model.fit(x_train,y_train)\n",
    "y_pred=model.predict(x_test)\n",
    "print('Confusion Matrix below :')\n",
    "print(confusion_matrix(y_test,y_pred))\n",
    "print('Accuracy:',accuracy_score(y_test,y_pred))\n",
    "print('Classification Report Below')\n",
    "print(classification_report(y_test,y_pred))"
   ]
  },
  {
   "cell_type": "markdown",
   "metadata": {},
   "source": [
    "So we got better results in Multinomial rathen than One vs Rest method as OVR best fit for binary Classification\n",
    "and Multi Nomial works best for Multi claassification"
   ]
  },
  {
   "cell_type": "code",
   "execution_count": null,
   "metadata": {},
   "outputs": [],
   "source": []
  }
 ],
 "metadata": {
  "kernelspec": {
   "display_name": "Python 3",
   "language": "python",
   "name": "python3"
  },
  "language_info": {
   "codemirror_mode": {
    "name": "ipython",
    "version": 3
   },
   "file_extension": ".py",
   "mimetype": "text/x-python",
   "name": "python",
   "nbconvert_exporter": "python",
   "pygments_lexer": "ipython3",
   "version": "3.6.5"
  }
 },
 "nbformat": 4,
 "nbformat_minor": 2
}
